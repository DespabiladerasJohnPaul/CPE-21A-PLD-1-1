{
  "nbformat": 4,
  "nbformat_minor": 0,
  "metadata": {
    "colab": {
      "provenance": [],
      "authorship_tag": "ABX9TyNjI2wMtf+q32WUdzNynDTo",
      "include_colab_link": true
    },
    "kernelspec": {
      "name": "python3",
      "display_name": "Python 3"
    },
    "language_info": {
      "name": "python"
    }
  },
  "cells": [
    {
      "cell_type": "markdown",
      "metadata": {
        "id": "view-in-github",
        "colab_type": "text"
      },
      "source": [
        "<a href=\"https://colab.research.google.com/github/DespabiladerasJohnPaul/CPE-21A-PLD-1-1/blob/main/Activity_(Nested_If_Else).ipynb\" target=\"_parent\"><img src=\"https://colab.research.google.com/assets/colab-badge.svg\" alt=\"Open In Colab\"/></a>"
      ]
    },
    {
      "cell_type": "markdown",
      "source": [
        "Example 1\n"
      ],
      "metadata": {
        "id": "iNqf-rllfsqD"
      }
    },
    {
      "cell_type": "code",
      "source": [
        "print(\"Enter your Age:\")\n",
        "age = int(input())\n",
        "if age>=18:\n",
        "  print(\"You are qualified to vote\")\n",
        "elif age<18:\n",
        "  print(\"You are not qualified to vote\")\n",
        "   \n",
        "\n",
        "\n",
        "  \n",
        "  \n",
        "\n",
        "  \n",
        "  \n",
        "  \n",
        "  \n",
        "  \n",
        " \n"
      ],
      "metadata": {
        "colab": {
          "base_uri": "https://localhost:8080/"
        },
        "id": "0wpiQ8l3fuAZ",
        "outputId": "fc6b589c-75c9-478f-c6b8-00fd8cadcd44"
      },
      "execution_count": 20,
      "outputs": [
        {
          "output_type": "stream",
          "name": "stdout",
          "text": [
            "Enter your Age:\n",
            "18\n",
            "You are qualified to vote\n"
          ]
        }
      ]
    },
    {
      "cell_type": "markdown",
      "source": [
        "Example 2"
      ],
      "metadata": {
        "id": "sjlD9esYmXfu"
      }
    },
    {
      "cell_type": "code",
      "source": [
        "print(\"Enter a Number:\")\n",
        "x = int(input())\n",
        "if x>0:\n",
        "  print(\"Your number is positive\")\n",
        "if x<0:\n",
        "  print(\"Your number is negative\")\n",
        "if x==0:\n",
        "  print(\"Your number is zero\")"
      ],
      "metadata": {
        "colab": {
          "base_uri": "https://localhost:8080/"
        },
        "id": "9_TYTmaXmZeW",
        "outputId": "00ba25d3-a5ce-464f-e8b3-17f99007a94f"
      },
      "execution_count": 23,
      "outputs": [
        {
          "output_type": "stream",
          "name": "stdout",
          "text": [
            "Enter a Number:\n",
            "0\n",
            "Your number is zero\n"
          ]
        }
      ]
    },
    {
      "cell_type": "markdown",
      "source": [
        "Example 3\n"
      ],
      "metadata": {
        "id": "QwKSEHgnoBQL"
      }
    },
    {
      "cell_type": "code",
      "source": [
        "print(\"Input your Grade:\")\n",
        "grade = int(input())\n",
        "if grade>75:\n",
        "  print(\"You have Passed\")\n",
        "elif grade==74:\n",
        "  print(\"You are in Remedial\")\n",
        "elif grade>=0 & grade<74:\n",
        "  print(\"You have Failed\")\n",
        "elif grade<0:\n",
        "  print(\"Invalid Input\")\n",
        "   "
      ],
      "metadata": {
        "colab": {
          "base_uri": "https://localhost:8080/"
        },
        "id": "zIMqrZQZoCnj",
        "outputId": "aa425717-6dd4-4a08-86f9-7396da55d310"
      },
      "execution_count": 26,
      "outputs": [
        {
          "output_type": "stream",
          "name": "stdout",
          "text": [
            "Input your Grade:\n",
            "-123\n",
            "Invalid Input\n"
          ]
        }
      ]
    }
  ]
}