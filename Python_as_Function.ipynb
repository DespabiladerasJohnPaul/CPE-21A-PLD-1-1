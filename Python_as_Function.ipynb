{
  "nbformat": 4,
  "nbformat_minor": 0,
  "metadata": {
    "colab": {
      "provenance": [],
      "authorship_tag": "ABX9TyN2Vj3Z5otCihTBQOl8Xz4J",
      "include_colab_link": true
    },
    "kernelspec": {
      "name": "python3",
      "display_name": "Python 3"
    },
    "language_info": {
      "name": "python"
    }
  },
  "cells": [
    {
      "cell_type": "markdown",
      "metadata": {
        "id": "view-in-github",
        "colab_type": "text"
      },
      "source": [
        "<a href=\"https://colab.research.google.com/github/DespabiladerasJohnPaul/CPE-21A-PLD-1-1/blob/main/Python_as_Function.ipynb\" target=\"_parent\"><img src=\"https://colab.research.google.com/assets/colab-badge.svg\" alt=\"Open In Colab\"/></a>"
      ]
    },
    {
      "cell_type": "code",
      "execution_count": null,
      "metadata": {
        "colab": {
          "base_uri": "https://localhost:8080/"
        },
        "id": "JoCEeinCikFB",
        "outputId": "3548c9b1-349b-4783-99dc-76d433f57522"
      },
      "outputs": [
        {
          "output_type": "execute_result",
          "data": {
            "text/plain": [
              "4.5"
            ]
          },
          "metadata": {},
          "execution_count": 1
        }
      ],
      "source": [
        "#Function Calls\n",
        "\n",
        "abs(-4.5)"
      ]
    },
    {
      "cell_type": "code",
      "source": [
        "#Function Calls other function\n",
        "\n",
        "pow(abs(-2),round(4.5))  #pow(2,4)"
      ],
      "metadata": {
        "colab": {
          "base_uri": "https://localhost:8080/"
        },
        "id": "5h4qlVsUi8nv",
        "outputId": "e0845afd-d183-4f75-9b6f-1d6bbe1075b8"
      },
      "execution_count": null,
      "outputs": [
        {
          "output_type": "execute_result",
          "data": {
            "text/plain": [
              "16"
            ]
          },
          "metadata": {},
          "execution_count": 2
        }
      ]
    },
    {
      "cell_type": "code",
      "source": [
        "#Type code function\n",
        "\n",
        "int(4.5)\n",
        "float(4)"
      ],
      "metadata": {
        "colab": {
          "base_uri": "https://localhost:8080/"
        },
        "id": "_kJ1wkXujO4w",
        "outputId": "f195c9d9-5956-4bca-9b35-d2b41598bc45"
      },
      "execution_count": null,
      "outputs": [
        {
          "output_type": "execute_result",
          "data": {
            "text/plain": [
              "4.0"
            ]
          },
          "metadata": {},
          "execution_count": 4
        }
      ]
    },
    {
      "cell_type": "code",
      "source": [
        "#Defining own function\n",
        "\n",
        "\n",
        "def convert_to_celsius(fahrenheit):\n",
        "    celsius = (fahrenheit-32)*5/9\n",
        "    return celsius\n",
        "\n",
        "fahrenheit = float(input(\"Enter a number in fahrenheit:\"))\n",
        "\n",
        "f=convert_to_celsius(fahrenheit)\n",
        "print(round(f,2))\n",
        "\n",
        "\n",
        "\n",
        "\n"
      ],
      "metadata": {
        "colab": {
          "base_uri": "https://localhost:8080/"
        },
        "id": "d8vF_fhLjiRR",
        "outputId": "99ecc336-ebf3-4222-8593-d2e3bc94557b"
      },
      "execution_count": null,
      "outputs": [
        {
          "output_type": "stream",
          "name": "stdout",
          "text": [
            "Enter a number in fahrenheit:100\n",
            "37.78\n"
          ]
        }
      ]
    },
    {
      "cell_type": "markdown",
      "source": [
        "Exercise"
      ],
      "metadata": {
        "id": "JZ--BVNOxy8D"
      }
    },
    {
      "cell_type": "code",
      "source": [
        "f = min(2,3,4)\n",
        "g = max(2,-3,4,7,-5)\n",
        "h = max(2,-3,min(4,7),-5)\n",
        "\n",
        "print (f)\n",
        "print (g)\n",
        "print (h)\n",
        "\n",
        "\n",
        "\n",
        "\n",
        "\n",
        "\n",
        "\n",
        "\n"
      ],
      "metadata": {
        "colab": {
          "base_uri": "https://localhost:8080/"
        },
        "id": "Hio3DQCmx-cT",
        "outputId": "2c99c296-c5ee-42a3-85b2-f42426268da2"
      },
      "execution_count": 1,
      "outputs": [
        {
          "output_type": "stream",
          "name": "stdout",
          "text": [
            "2\n",
            "7\n",
            "4\n"
          ]
        }
      ]
    }
  ]
}