{
  "nbformat": 4,
  "nbformat_minor": 0,
  "metadata": {
    "colab": {
      "provenance": [],
      "authorship_tag": "ABX9TyPF1BsE9/mtQzBXph0bidMW",
      "include_colab_link": true
    },
    "kernelspec": {
      "name": "python3",
      "display_name": "Python 3"
    },
    "language_info": {
      "name": "python"
    }
  },
  "cells": [
    {
      "cell_type": "markdown",
      "metadata": {
        "id": "view-in-github",
        "colab_type": "text"
      },
      "source": [
        "<a href=\"https://colab.research.google.com/github/DespabiladerasJohnPaul/CPE-21A-PLD-1-1/blob/main/Object_and_Class.ipynb\" target=\"_parent\"><img src=\"https://colab.research.google.com/assets/colab-badge.svg\" alt=\"Open In Colab\"/></a>"
      ]
    },
    {
      "cell_type": "code",
      "execution_count": 7,
      "metadata": {
        "colab": {
          "base_uri": "https://localhost:8080/"
        },
        "id": "CX-3_bYZ0jNo",
        "outputId": "1627b5c5-721c-42fe-ca72-08a2122ff112"
      },
      "outputs": [
        {
          "output_type": "stream",
          "name": "stdout",
          "text": [
            "My name is John Paul\n",
            "My age is 18\n",
            "Ana\n",
            "20\n"
          ]
        }
      ],
      "source": [
        "#Creating class and object\n",
        "\n",
        "class Person:                         #Creating class named as person         \n",
        "  def __init__(self, name, age):\n",
        "    self.name = name\n",
        "    self.age = age\n",
        "\n",
        "person = Person(\"John Paul\", 18)      #creating object name as person\n",
        "print(\"My name is\", person.name)\n",
        "print(\"My age is\",person.age)\n",
        "\n",
        "class Student(Person):\n",
        "  pass\n",
        "\n",
        "\n",
        "person2 = Student(\"Ana\", 20)\n",
        "print(person2.name)\n",
        "print(person2.age)\n",
        "\n",
        "\n",
        " \n",
        "               \n"
      ]
    }
  ]
}