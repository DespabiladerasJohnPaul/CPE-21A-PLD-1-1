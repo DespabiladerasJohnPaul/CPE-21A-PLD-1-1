{
  "nbformat": 4,
  "nbformat_minor": 0,
  "metadata": {
    "colab": {
      "provenance": [],
      "authorship_tag": "ABX9TyNQurAVZUZpXwZOsmNFUzfY",
      "include_colab_link": true
    },
    "kernelspec": {
      "name": "python3",
      "display_name": "Python 3"
    },
    "language_info": {
      "name": "python"
    }
  },
  "cells": [
    {
      "cell_type": "markdown",
      "metadata": {
        "id": "view-in-github",
        "colab_type": "text"
      },
      "source": [
        "<a href=\"https://colab.research.google.com/github/DespabiladerasJohnPaul/CPE-21A-PLD-1-1/blob/main/Object_and_Class.ipynb\" target=\"_parent\"><img src=\"https://colab.research.google.com/assets/colab-badge.svg\" alt=\"Open In Colab\"/></a>"
      ]
    },
    {
      "cell_type": "code",
      "execution_count": null,
      "metadata": {
        "colab": {
          "base_uri": "https://localhost:8080/"
        },
        "id": "CX-3_bYZ0jNo",
        "outputId": "1627b5c5-721c-42fe-ca72-08a2122ff112"
      },
      "outputs": [
        {
          "output_type": "stream",
          "name": "stdout",
          "text": [
            "My name is John Paul\n",
            "My age is 18\n",
            "Ana\n",
            "20\n"
          ]
        }
      ],
      "source": [
        "#Creating class and object\n",
        "\n",
        "class Person:                         #Creating class named as person         \n",
        "  def __init__(self, name, age):\n",
        "    self.name = name\n",
        "    self.age = age\n",
        "\n",
        "person = Person(\"John Paul\", 18)      #creating object name as person\n",
        "print(\"My name is\", person.name)\n",
        "print(\"My age is\",person.age)\n",
        "\n",
        "class Student(Person):\n",
        "  pass\n",
        "\n",
        "\n",
        "person2 = Student(\"Ana\", 20)\n",
        "print(person2.name)\n",
        "print(person2.age)\n",
        "\n",
        "\n",
        " \n",
        "               \n"
      ]
    },
    {
      "cell_type": "markdown",
      "source": [
        "#Application 1\n",
        "\n",
        "Write a Python that: \n",
        "#Use Shape as parent class name \n",
        "#Use Square as child class that inherits the attributes of the parent class  \n",
        "#Use Area () and Perimeter () as methods to retrieve its values by assigning the instance of the object"
      ],
      "metadata": {
        "id": "epX3ETo55r1B"
      }
    },
    {
      "cell_type": "code",
      "source": [
        "class Shape():\n",
        "    \n",
        "    def __init__(self):\n",
        "        self.shape = 'shape'\n",
        "        \n",
        "    def __str__(self):\n",
        "        return \"I am a {}.\".format(self.shape)\n",
        "\n",
        "    s = Shape()\n",
        "    print(s)\n"
      ],
      "metadata": {
        "id": "vK7uK2YZ3wiz",
        "colab": {
          "base_uri": "https://localhost:8080/"
        },
        "outputId": "e3b8000e-126a-4fb2-b3fe-5125a8d5f39e"
      },
      "execution_count": 16,
      "outputs": [
        {
          "output_type": "stream",
          "name": "stdout",
          "text": [
            "I am a shape.\n"
          ]
        }
      ]
    },
    {
      "cell_type": "code",
      "source": [
        "class Square():\n",
        "    \n",
        "    def __init__(self):\n",
        "        self.square = 'square'\n",
        "        \n",
        "    def __str__(self):\n",
        "        return \"I am a shape, and I'm a {}.\".format(self.square)\n",
        "\n",
        "    p = Square()\n",
        "    print(p)\n",
        "\n",
        "\n",
        "\n",
        "  "
      ],
      "metadata": {
        "colab": {
          "base_uri": "https://localhost:8080/"
        },
        "id": "tB4KWjg_nWbq",
        "outputId": "bf185278-67a9-4a93-de7e-5ab2a8822f09"
      },
      "execution_count": 28,
      "outputs": [
        {
          "output_type": "stream",
          "name": "stdout",
          "text": [
            "I am a shape, and I'm a square.\n"
          ]
        }
      ]
    },
    {
      "cell_type": "code",
      "source": [
        "s=int(input(\"Side : \"))\n",
        "area=s*s\n",
        "perimeter=4*s\n",
        "print(\"Area of Square : \",area)\n",
        "print(\"Perimeter of Square : \",perimeter)"
      ],
      "metadata": {
        "colab": {
          "base_uri": "https://localhost:8080/"
        },
        "id": "7P4aoYHPoSjN",
        "outputId": "197c99fc-90b2-4871-9d9c-8f7259eba67e"
      },
      "execution_count": 30,
      "outputs": [
        {
          "output_type": "stream",
          "name": "stdout",
          "text": [
            "Side : 4\n",
            "Area of Square :  16\n",
            "Perimeter of Square :  16\n"
          ]
        }
      ]
    }
  ]
}