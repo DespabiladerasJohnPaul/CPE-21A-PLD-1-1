{
  "nbformat": 4,
  "nbformat_minor": 0,
  "metadata": {
    "colab": {
      "provenance": [],
      "authorship_tag": "ABX9TyOB3qlyTJzcKlVi3arxouBj",
      "include_colab_link": true
    },
    "kernelspec": {
      "name": "python3",
      "display_name": "Python 3"
    },
    "language_info": {
      "name": "python"
    }
  },
  "cells": [
    {
      "cell_type": "markdown",
      "metadata": {
        "id": "view-in-github",
        "colab_type": "text"
      },
      "source": [
        "<a href=\"https://colab.research.google.com/github/DespabiladerasJohnPaul/CPE-21A-PLD-1-1/blob/main/Calculator.ipynb\" target=\"_parent\"><img src=\"https://colab.research.google.com/assets/colab-badge.svg\" alt=\"Open In Colab\"/></a>"
      ]
    },
    {
      "cell_type": "code",
      "execution_count": 3,
      "metadata": {
        "colab": {
          "base_uri": "https://localhost:8080/",
          "height": 235
        },
        "id": "YcULMC1xuLS5",
        "outputId": "070dc04e-d563-4bad-85e6-95ba036e2953"
      },
      "outputs": [
        {
          "output_type": "error",
          "ename": "NameError",
          "evalue": "ignored",
          "traceback": [
            "\u001b[0;31m---------------------------------------------------------------------------\u001b[0m",
            "\u001b[0;31mNameError\u001b[0m                                 Traceback (most recent call last)",
            "\u001b[0;32m<ipython-input-3-3770599e88c3>\u001b[0m in \u001b[0;36m<module>\u001b[0;34m\u001b[0m\n\u001b[1;32m     39\u001b[0m         \u001b[0mself\u001b[0m\u001b[0;34m.\u001b[0m\u001b[0mtxt3\u001b[0m\u001b[0;34m.\u001b[0m\u001b[0minsert\u001b[0m\u001b[0;34m(\u001b[0m\u001b[0mEND\u001b[0m\u001b[0;34m,\u001b[0m \u001b[0mstr\u001b[0m\u001b[0;34m(\u001b[0m\u001b[0mresult\u001b[0m\u001b[0;34m)\u001b[0m\u001b[0;34m)\u001b[0m\u001b[0;34m\u001b[0m\u001b[0;34m\u001b[0m\u001b[0m\n\u001b[1;32m     40\u001b[0m \u001b[0;34m\u001b[0m\u001b[0m\n\u001b[0;32m---> 41\u001b[0;31m \u001b[0mmywin\u001b[0m \u001b[0;34m=\u001b[0m \u001b[0mMyWindow\u001b[0m\u001b[0;34m(\u001b[0m\u001b[0mwindow\u001b[0m\u001b[0;34m)\u001b[0m\u001b[0;34m\u001b[0m\u001b[0;34m\u001b[0m\u001b[0m\n\u001b[0m\u001b[1;32m     42\u001b[0m \u001b[0mwindow\u001b[0m\u001b[0;34m.\u001b[0m\u001b[0mgeometry\u001b[0m\u001b[0;34m(\u001b[0m\u001b[0;34m\"600x400+10+10\"\u001b[0m\u001b[0;34m)\u001b[0m\u001b[0;34m\u001b[0m\u001b[0;34m\u001b[0m\u001b[0m\n\u001b[1;32m     43\u001b[0m \u001b[0mwindow\u001b[0m\u001b[0;34m.\u001b[0m\u001b[0mtitle\u001b[0m\u001b[0;34m(\u001b[0m\u001b[0;34m\"Simple Calculator\"\u001b[0m\u001b[0;34m)\u001b[0m\u001b[0;34m\u001b[0m\u001b[0;34m\u001b[0m\u001b[0m\n",
            "\u001b[0;31mNameError\u001b[0m: name 'window' is not defined"
          ]
        }
      ],
      "source": [
        "from tkinter import *\n",
        "\n",
        "class MyWindow:\n",
        "    def __init__(self,win):\n",
        "\n",
        "#widgets start from here\n",
        "        self.lbl1 = Label(win,text=\"1st No.\")\n",
        "        self.lbl1.place(x=100,y=50)\n",
        "        self.lbl2 = Label(win, text= \"2nd No.\")\n",
        "        self.lbl2.place(x=100,y=100)\n",
        "        self.lbl3 = Label(win, text=\"Result\")\n",
        "        self.lbl3.place(x=100,y=150)\n",
        "        self.txt1 = Entry(win,bd=1)\n",
        "        self.txt1.place(x=200,y=50)\n",
        "        self.txt2 = Entry(win,bd=1)\n",
        "        self.txt2.place(x=200,y=100)\n",
        "        self.txt3 = Entry(win,bd=3)\n",
        "        self.txt3.place(x=200,y=150)\n",
        "        self.btnadd = Button(win,text=\"Add\")\n",
        "        self.btnadd.place(x=100,y=200)\n",
        "        self.btnsub = Button(win,text=\"Sub\")\n",
        "        self.btnsub.place(x=150,y=200)\n",
        "        self.btnsub.bind('<Button-1>',self.sub)\n",
        "\n",
        "#add event-handling /bind () method\n",
        "\n",
        "    def add(self,add):\n",
        "        self.txt3.delete(0, 'end')\n",
        "        num1 = int(self.txt1.get())\n",
        "        num2 = int(self.txt2.get())\n",
        "        result = num1 + num2\n",
        "        self.txt3.insert(END,str(result))\n",
        "\n",
        "    def sub(self,sub):\n",
        "        self.txt3.delete(0, 'end')\n",
        "        num1 = int(self.txt1.get())\n",
        "        num2 = int(self.txt2.get())\n",
        "        result = num1-num2\n",
        "        self.txt3.insert(END, str(result))\n",
        "\n",
        "mywin = MyWindow(window)\n",
        "window.geometry(\"600x400+10+10\")\n",
        "window.title(\"Simple Calculator\")\n",
        "window.mainloop()"
      ]
    }
  ]
}