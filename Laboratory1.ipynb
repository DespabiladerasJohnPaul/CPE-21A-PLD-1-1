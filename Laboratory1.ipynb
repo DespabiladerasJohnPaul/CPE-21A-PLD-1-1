{
  "nbformat": 4,
  "nbformat_minor": 0,
  "metadata": {
    "colab": {
      "provenance": [],
      "authorship_tag": "ABX9TyNk19GIobFp0E8417CBlgSb",
      "include_colab_link": true
    },
    "kernelspec": {
      "name": "python3",
      "display_name": "Python 3"
    },
    "language_info": {
      "name": "python"
    }
  },
  "cells": [
    {
      "cell_type": "markdown",
      "metadata": {
        "id": "view-in-github",
        "colab_type": "text"
      },
      "source": [
        "<a href=\"https://colab.research.google.com/github/DespabiladerasJohnPaul/CPE-21A-PLD-1-1/blob/main/Laboratory1.ipynb\" target=\"_parent\"><img src=\"https://colab.research.google.com/assets/colab-badge.svg\" alt=\"Open In Colab\"/></a>"
      ]
    },
    {
      "cell_type": "code",
      "execution_count": null,
      "metadata": {
        "colab": {
          "base_uri": "https://localhost:8080/"
        },
        "id": "aJw8kP1N2VRn",
        "outputId": "bdde2427-7f8c-4e50-eeb6-1b3655f4d88f"
      },
      "outputs": [
        {
          "output_type": "stream",
          "name": "stdout",
          "text": [
            "Name: John Paul E. Despabiladeras\n",
            "Age: 18\n",
            "Course: Bachelor of Computer Engineering\n",
            "Student Number: 202201073\n"
          ]
        }
      ],
      "source": [
        "#1\n",
        "\n",
        "def personal_details():\n",
        "    name, age = \"John Paul E. Despabiladeras\", 18\n",
        "    course = \"Bachelor of Computer Engineering\"\n",
        "    Student = \"202201073\"\n",
        "    print(\"Name: {}\\nAge: {}\\nCourse: {}\".format(name, age, course,))\n",
        "    print(\"Student Number: 202201073\")\n",
        "\n",
        "personal_details()"
      ]
    },
    {
      "cell_type": "code",
      "source": [
        "#2 \n",
        "\n",
        "\n",
        "class Student:\n",
        "    student_id = 'Student No.'\n",
        "    student_name = 'Name'\n",
        "    student_school = 'School'\n",
        "    student_course = 'Course'\n",
        "    student_age = 'Age'\n",
        "    def display():\n",
        "        print(f'Student id: {Student.student_id}\\nStudent Name: {Student.student_name}\\nStudent School: {Student.student_school}\\nStudent Course: {Student.student_course}\\nStudent Age: {Student.student_age}')\n",
        "print(\"class named Student with attributes: Name, Student_No, Age, School,Course:\")\n",
        "Student.display()"
      ],
      "metadata": {
        "colab": {
          "base_uri": "https://localhost:8080/"
        },
        "id": "jHsvpgLm5p4V",
        "outputId": "8efaef42-862d-44c4-b625-02c3dd2578ea"
      },
      "execution_count": null,
      "outputs": [
        {
          "output_type": "stream",
          "name": "stdout",
          "text": [
            "class named Student with attributes: Name, Student_No, Age, School,Course:\n",
            "Student id: Student No.\n",
            "Student Name: Name\n",
            "Student School: School\n",
            "Student Course: Course\n",
            "Student Age: Age\n"
          ]
        }
      ]
    },
    {
      "cell_type": "code",
      "source": [
        "#3 \n",
        "\n",
        "obj = someobject\n",
        "obj.a = object()\n",
        "setattr(obj.a, 'somefield', 'somevalue')\n"
      ],
      "metadata": {
        "id": "hOOoPq8M7mib"
      },
      "execution_count": null,
      "outputs": []
    },
    {
      "cell_type": "code",
      "source": [
        "#4 \n",
        "\n",
        "public MyClass {\n",
        "    private GeometrySplitter splitter = new GeometrySplitter();\n",
        "\n",
        "    public void methodX() {}\n",
        "\n",
        "    public void methodY(int i, object o) {\n",
        "        splitter.chop(int i, object o);\n",
        "    }\n",
        "\n",
        "    public void methodZ() {}\n",
        "}"
      ],
      "metadata": {
        "id": "rnVW8RIk-ZF5"
      },
      "execution_count": null,
      "outputs": []
    },
    {
      "cell_type": "code",
      "source": [
        "#Problem 1\n",
        "\n",
        "\n",
        "\n",
        "\n",
        "count = 0\n",
        "sum = 0.0\n",
        "number = 1\n",
        "\n",
        "while number != 0:\n",
        "\tnumber = int(input(\"\"))\n",
        "\tsum = sum + number\n",
        "\tcount += 1\n",
        "\n",
        "if count == 0:\n",
        "\tprint(\"Average\")\n",
        "else:\n",
        "\tprint(\"Average\", sum / (count-1), sum)\n",
        "\t"
      ],
      "metadata": {
        "colab": {
          "base_uri": "https://localhost:8080/"
        },
        "id": "4ZZZJXsD9Fnm",
        "outputId": "5a2b43e2-f910-4a6a-8179-9363dcc2ad9c"
      },
      "execution_count": null,
      "outputs": [
        {
          "name": "stdout",
          "output_type": "stream",
          "text": [
            "45\n"
          ]
        }
      ]
    }
  ]
}